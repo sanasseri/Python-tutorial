{
 "cells": [
  {
   "cell_type": "markdown",
   "id": "0c5b0211-a8c2-4c14-a3ef-daf767a364f7",
   "metadata": {},
   "source": [
    "# Python Bootcamp Tutorial\n",
    "Adapted from: \n",
    "* https://python.swaroopch.com/\n",
    "* https://matplotlib.org/stable/tutorials/pyplot.html\n",
    "* https://www.practicepython.org/\n",
    "* https://problemsolvingwithpython.com/"
   ]
  },
  {
   "cell_type": "markdown",
   "id": "afd20edf-b159-4a9b-9c93-8804671adad3",
   "metadata": {},
   "source": [
    "Hello World\n"
   ]
  },
  {
   "cell_type": "code",
   "execution_count": 2,
   "id": "7ef8bc36-e16e-4db0-abed-c016dbcfed24",
   "metadata": {},
   "outputs": [
    {
     "name": "stdout",
     "output_type": "stream",
     "text": [
      "hello world\n"
     ]
    }
   ],
   "source": [
    "# Print hello world\n",
    "#print(): Function\n",
    "print(\"hello world\")"
   ]
  },
  {
   "cell_type": "markdown",
   "id": "4fe0895d-5a79-44cb-b0a0-f5c09348da31",
   "metadata": {},
   "source": [
    "## Variables and Simple math"
   ]
  },
  {
   "cell_type": "code",
   "execution_count": 3,
   "id": "f97236fe-0238-4185-abbc-775a354eb774",
   "metadata": {},
   "outputs": [
    {
     "name": "stdout",
     "output_type": "stream",
     "text": [
      "5\n",
      "0.6666666666666666\n"
     ]
    }
   ],
   "source": [
    "a = 2\n",
    "b = 3\n",
    "c = a+b\n",
    "d = a/b\n",
    "print(c)\n",
    "print(d)"
   ]
  },
  {
   "cell_type": "markdown",
   "id": "231fd60b-329a-4f0f-8761-0918ac9e6bd6",
   "metadata": {},
   "source": [
    "Different data types:\n",
    "* Text Type: str\n",
    "* Numeric Types: int, float, complex\n",
    "* Sequence Types: list, tuple, range\n",
    "* Mapping Type: dict\n",
    "* Set Types: set, frozenset\n",
    "* Boolean Type: bool\n",
    "* Binary Types: bytes, bytearray, memoryview\n",
    "* None Type: NoneType"
   ]
  },
  {
   "cell_type": "code",
   "execution_count": 5,
   "id": "92ac6d77-fffa-42c0-9591-341d9fcea420",
   "metadata": {},
   "outputs": [
    {
     "name": "stdout",
     "output_type": "stream",
     "text": [
      "<class 'int'>\n",
      "<class 'float'>\n"
     ]
    }
   ],
   "source": [
    "print(type(c))\n",
    "print(type(d))"
   ]
  },
  {
   "cell_type": "markdown",
   "id": "1a481dbf-cb43-4a2e-9c16-c623bf0c74c9",
   "metadata": {},
   "source": [
    "Question: Identify the type of the following varuiables"
   ]
  },
  {
   "cell_type": "code",
   "execution_count": 3,
   "id": "73b6377a-3b2a-4a2e-85b8-014c9919f1e9",
   "metadata": {},
   "outputs": [],
   "source": [
    "a1 = \"Hello World\"\n",
    "a2 = 20\n",
    "a3 = 20.5\n",
    "a4 = 1j\n",
    "a5 = [\"apple\", \"banana\", \"cherry\"]\n",
    "a6 = (\"apple\", \"banana\", \"cherry\")\n",
    "a7 = range(6)\n",
    "a8 = {\"name\" : \"John\", \"age\" : 36}\n",
    "a9 = {\"apple\", \"banana\", \"cherry\"}\n",
    "a10 = frozenset({\"apple\", \"banana\", \"cherry\"})\n",
    "a11 = True\n",
    "a12 = b\"Hello\"\n",
    "a13 = bytearray(5)\n",
    "a14 = memoryview(bytes(5))\n",
    "a15 = None\n",
    "\n",
    "a16 = str(\"Hello World\")\n",
    "a17 = int(20)\n",
    "a18 = float(20.5)\n",
    "a19 = complex(1j)\n",
    "a20 = list((\"apple\", \"banana\", \"cherry\"))\n",
    "a21 = tuple((\"apple\", \"banana\", \"cherry\"))\n",
    "a22 = range(6)\n",
    "a23 = dict(name=\"John\", age=36)\n",
    "a24 = set((\"apple\", \"banana\", \"cherry\"))\n",
    "a25 = frozenset((\"apple\", \"banana\", \"cherry\"))\n",
    "a26 = bool(5)\n",
    "a27 = bytes(5)\n",
    "a28 = bytearray(5)\n",
    "a29 = memoryview(bytes(5))\n",
    "\n",
    "a30 = \"\"\"My name\n",
    "is\n",
    "Ali\n",
    "and\n",
    "I\n",
    "am\n",
    "teaching\"\"\""
   ]
  },
  {
   "cell_type": "markdown",
   "id": "0652faa6-6cb8-479c-aa8e-1ebab84fcaf1",
   "metadata": {},
   "source": [
    "## Formatting in print mode"
   ]
  },
  {
   "cell_type": "code",
   "execution_count": 5,
   "id": "e42f3f9a-0a4d-4c3b-ab1b-c82648e8ce20",
   "metadata": {},
   "outputs": [
    {
     "name": "stdout",
     "output_type": "stream",
     "text": [
      "20 and 20.5 are both numbers\n",
      "0.333\n",
      "___hello___\n",
      "Swaroop wrote A Byte of Python\n",
      "For only 49.00 dollars!\n"
     ]
    }
   ],
   "source": [
    "#Prinitng sentences\n",
    "print('{0} and {1} are both numbers'.format(a2, a3))\n",
    "\n",
    "# decimal (.) precision of 3 for float '0.333'\n",
    "print('{0:.3f}'.format(1.0/3))\n",
    "\n",
    "# fill with underscores (_) with the text centered\n",
    "# (^) to 11 width '___hello___'\n",
    "print('{0:_^11}'.format('hello'))\n",
    "\n",
    "# keyword-based 'Swaroop wrote A Byte of Python'\n",
    "print('{name} wrote {book}'.format(name='Swaroop', book='A Byte of Python'))\n",
    "\n",
    "txt = \"For only {price:.2f} dollars!\"\n",
    "print(txt.format(price = 49))"
   ]
  },
  {
   "cell_type": "markdown",
   "id": "1936bec3-247f-4468-83df-b089537e37a3",
   "metadata": {},
   "source": [
    "Operators\n",
    "+\n",
    "-\n",
    "*\n",
    "/\n",
    "**: power\n",
    "//: divide and floor\n",
    "%: remainder of division\n",
    "<\n",
    "<=\n",
    ">\n",
    ">=\n",
    "==: equal\n",
    "!=: not equal\n",
    "and\n",
    "or\n",
    "not"
   ]
  },
  {
   "cell_type": "code",
   "execution_count": 14,
   "id": "85e7152c-2cad-44ea-aa6a-b9b9e4861dfc",
   "metadata": {},
   "outputs": [
    {
     "name": "stdout",
     "output_type": "stream",
     "text": [
      "400\n"
     ]
    },
    {
     "data": {
      "text/plain": [
       "False"
      ]
     },
     "execution_count": 14,
     "metadata": {},
     "output_type": "execute_result"
    }
   ],
   "source": [
    "print(a2**2)\n",
    "a3<a2"
   ]
  },
  {
   "cell_type": "markdown",
   "id": "c878e92b-a22d-49b6-b644-58b024f5e2d6",
   "metadata": {},
   "source": [
    "## In Python indentation does matter"
   ]
  },
  {
   "cell_type": "code",
   "execution_count": 12,
   "id": "2b3be32c-225f-4257-ac1a-3841613a0910",
   "metadata": {},
   "outputs": [
    {
     "ename": "IndentationError",
     "evalue": "unexpected indent (128197858.py, line 3)",
     "output_type": "error",
     "traceback": [
      "\u001b[0;36m  Input \u001b[0;32mIn [12]\u001b[0;36m\u001b[0m\n\u001b[0;31m    print('Value is', i)\u001b[0m\n\u001b[0m    ^\u001b[0m\n\u001b[0;31mIndentationError\u001b[0m\u001b[0;31m:\u001b[0m unexpected indent\n"
     ]
    }
   ],
   "source": [
    "i = 5\n",
    "# Error below! Notice a single space at the start of the line\n",
    " print('Value is', i)\n",
    "print('I repeat, the value is', i)"
   ]
  },
  {
   "cell_type": "markdown",
   "id": "4e86170f-a9bc-47b7-b095-421629dee4e0",
   "metadata": {},
   "source": [
    "You will see why when we get to more complicated structures."
   ]
  },
  {
   "cell_type": "markdown",
   "id": "334da9f9-61c7-458c-8475-60b558fba26d",
   "metadata": {},
   "source": [
    "## Controlling flow\n",
    "\n",
    "### If conditional\n"
   ]
  },
  {
   "cell_type": "code",
   "execution_count": 15,
   "id": "64897b5e-b7d3-4dc4-a679-b674bfa1cef8",
   "metadata": {},
   "outputs": [
    {
     "name": "stdin",
     "output_type": "stream",
     "text": [
      "Enter an integer :  2\n"
     ]
    },
    {
     "name": "stdout",
     "output_type": "stream",
     "text": [
      "No, it is a little higher than that\n",
      "Done\n"
     ]
    }
   ],
   "source": [
    "number = 23\n",
    "guess = int(input('Enter an integer : '))\n",
    "\n",
    "if guess == number:\n",
    "    # New block starts here\n",
    "    print('Congratulations, you guessed it.')\n",
    "    print('(but you do not win any prizes!)')\n",
    "    # New block ends here\n",
    "elif guess < number:\n",
    "    # Another block\n",
    "    print('No, it is a little higher than that')\n",
    "    # You can do whatever you want in a block ...\n",
    "else:\n",
    "    print('No, it is a little lower than that')\n",
    "    # you must have guessed > number to reach here\n",
    "\n",
    "print('Done')\n",
    "# This last statement is always executed,\n",
    "# after the if statement is executed."
   ]
  },
  {
   "cell_type": "markdown",
   "id": "08d05259-5dae-497d-a0c1-aee9d47f34ca",
   "metadata": {},
   "source": [
    "### While loop"
   ]
  },
  {
   "cell_type": "code",
   "execution_count": 16,
   "id": "5caa6cad-86e7-42b8-bc09-9ff7c9f3c182",
   "metadata": {},
   "outputs": [
    {
     "name": "stdin",
     "output_type": "stream",
     "text": [
      "Enter an integer :  2\n"
     ]
    },
    {
     "name": "stdout",
     "output_type": "stream",
     "text": [
      "No, it is a little higher than that.\n"
     ]
    },
    {
     "name": "stdin",
     "output_type": "stream",
     "text": [
      "Enter an integer :  3\n"
     ]
    },
    {
     "name": "stdout",
     "output_type": "stream",
     "text": [
      "No, it is a little higher than that.\n"
     ]
    },
    {
     "name": "stdin",
     "output_type": "stream",
     "text": [
      "Enter an integer :  50\n"
     ]
    },
    {
     "name": "stdout",
     "output_type": "stream",
     "text": [
      "No, it is a little lower than that.\n"
     ]
    },
    {
     "name": "stdin",
     "output_type": "stream",
     "text": [
      "Enter an integer :  23\n"
     ]
    },
    {
     "name": "stdout",
     "output_type": "stream",
     "text": [
      "Congratulations, you guessed it.\n",
      "The while loop is over.\n",
      "Done\n"
     ]
    }
   ],
   "source": [
    "number = 23\n",
    "running = True\n",
    "\n",
    "while running:\n",
    "    guess = int(input('Enter an integer : '))\n",
    "\n",
    "    if guess == number:\n",
    "        print('Congratulations, you guessed it.')\n",
    "        # this causes the while loop to stop\n",
    "        running = False\n",
    "    elif guess < number:\n",
    "        print('No, it is a little higher than that.')\n",
    "    else:\n",
    "        print('No, it is a little lower than that.')\n",
    "else:\n",
    "    print('The while loop is over.')\n",
    "    # Do anything else you want to do here\n",
    "\n",
    "print('Done')"
   ]
  },
  {
   "cell_type": "markdown",
   "id": "8fe32c50-2630-4aea-9285-49b5b6d03a78",
   "metadata": {},
   "source": [
    "### for loop"
   ]
  },
  {
   "cell_type": "code",
   "execution_count": 17,
   "id": "6cae8567-a01c-4c4d-8cc7-92565d457a16",
   "metadata": {},
   "outputs": [
    {
     "name": "stdout",
     "output_type": "stream",
     "text": [
      "1\n",
      "2\n",
      "3\n",
      "4\n",
      "The for loop is over\n"
     ]
    }
   ],
   "source": [
    "for i in range(1, 5):\n",
    "    print(i)\n",
    "else:\n",
    "    print('The for loop is over')"
   ]
  },
  {
   "cell_type": "markdown",
   "id": "79d8a655-b640-45cd-a34a-d5812033e74d",
   "metadata": {},
   "source": [
    "### Breaking a loop"
   ]
  },
  {
   "cell_type": "code",
   "execution_count": 18,
   "id": "ff39989f-bd62-40eb-bce3-a748950517a4",
   "metadata": {},
   "outputs": [
    {
     "name": "stdin",
     "output_type": "stream",
     "text": [
      "Enter something :  a\n"
     ]
    },
    {
     "name": "stdout",
     "output_type": "stream",
     "text": [
      "Length of the string is 1\n"
     ]
    },
    {
     "name": "stdin",
     "output_type": "stream",
     "text": [
      "Enter something :  b\n"
     ]
    },
    {
     "name": "stdout",
     "output_type": "stream",
     "text": [
      "Length of the string is 1\n"
     ]
    },
    {
     "name": "stdin",
     "output_type": "stream",
     "text": [
      "Enter something :  quit\n"
     ]
    },
    {
     "name": "stdout",
     "output_type": "stream",
     "text": [
      "Done\n"
     ]
    }
   ],
   "source": [
    "while True:\n",
    "    s = input('Enter something : ')\n",
    "    if s == 'quit':\n",
    "        break\n",
    "    print('Length of the string is', len(s))\n",
    "print('Done')"
   ]
  },
  {
   "cell_type": "markdown",
   "id": "e2c86240-66cb-4552-9f19-af42893074f8",
   "metadata": {},
   "source": [
    "### Continue"
   ]
  },
  {
   "cell_type": "code",
   "execution_count": 19,
   "id": "aa1c7470-7be4-4a00-b58b-33ef439d732b",
   "metadata": {},
   "outputs": [
    {
     "name": "stdin",
     "output_type": "stream",
     "text": [
      "Enter something :  1\n"
     ]
    },
    {
     "name": "stdout",
     "output_type": "stream",
     "text": [
      "Too small\n"
     ]
    },
    {
     "name": "stdin",
     "output_type": "stream",
     "text": [
      "Enter something :  22\n"
     ]
    },
    {
     "name": "stdout",
     "output_type": "stream",
     "text": [
      "Too small\n"
     ]
    },
    {
     "name": "stdin",
     "output_type": "stream",
     "text": [
      "Enter something :  222\n"
     ]
    },
    {
     "name": "stdout",
     "output_type": "stream",
     "text": [
      "Input is of sufficient length\n"
     ]
    },
    {
     "name": "stdin",
     "output_type": "stream",
     "text": [
      "Enter something :  22222\n"
     ]
    },
    {
     "name": "stdout",
     "output_type": "stream",
     "text": [
      "Input is of sufficient length\n"
     ]
    },
    {
     "name": "stdin",
     "output_type": "stream",
     "text": [
      "Enter something :  quit\n"
     ]
    }
   ],
   "source": [
    "while True:\n",
    "    s = input('Enter something : ')\n",
    "    if s == 'quit':\n",
    "        break\n",
    "    if len(s) < 3:\n",
    "        print('Too small')\n",
    "        continue\n",
    "    print('Input is of sufficient length')\n",
    "    # Do other kinds of processing here..."
   ]
  },
  {
   "cell_type": "markdown",
   "id": "ea08229f-3d52-4aae-8420-a300ba295ad5",
   "metadata": {},
   "source": [
    "Q2: Print the even numbers between 1-100"
   ]
  },
  {
   "cell_type": "code",
   "execution_count": null,
   "id": "3b2f8d69-70b7-4609-a708-6540e562d35d",
   "metadata": {},
   "outputs": [],
   "source": []
  },
  {
   "cell_type": "markdown",
   "id": "785275f4-30a4-487e-a88b-53e54078b8c3",
   "metadata": {},
   "source": [
    "## More advanced Math"
   ]
  },
  {
   "cell_type": "code",
   "execution_count": 24,
   "id": "9c2862ea-2fcd-4502-8f5b-fd518d64ad66",
   "metadata": {},
   "outputs": [
    {
     "data": {
      "text/plain": [
       "0.5000000000000001"
      ]
     },
     "execution_count": 24,
     "metadata": {},
     "output_type": "execute_result"
    }
   ],
   "source": [
    "import math as m\n",
    "m.sin(math.pi/3)\n",
    "m.cos(math.radians(60))"
   ]
  },
  {
   "cell_type": "markdown",
   "id": "e16cdf82-2dbb-4a9c-84f0-d164842d0faf",
   "metadata": {
    "tags": []
   },
   "source": [
    "## Plotting"
   ]
  },
  {
   "cell_type": "code",
   "execution_count": 49,
   "id": "359c3d34-ec7a-4691-ace6-f03b633df42b",
   "metadata": {},
   "outputs": [
    {
     "data": {
      "image/png": "[encoded data removed]",
      "text/plain": [
       "<Figure size 640x480 with 1 Axes>"
      ]
     },
     "metadata": {},
     "output_type": "display_data"
    }
   ],
   "source": [
    "import matplotlib.pyplot as plt\n",
    "import numpy as np\n",
    "\n",
    "x = np.array(range(0,360,1))\n",
    "y = np.array([])\n",
    "\n",
    "for i in x:\n",
    "    y = np.append(y,m.sin(m.radians(i)))\n",
    "\n",
    "plt.plot(x, y)\n",
    "plt.xlabel('angle (degrees)')\n",
    "plt.ylabel('y = sin(x)')\n",
    "\n",
    "plt.show()"
   ]
  },
  {
   "cell_type": "code",
   "execution_count": 46,
   "id": "d1df8652-fd02-4799-acb2-ff4d5f075ae6",
   "metadata": {},
   "outputs": [
    {
     "data": {
      "image/png": "[encoded data removed]",
      "text/plain": [
       "<Figure size 640x480 with 1 Axes>"
      ]
     },
     "metadata": {},
     "output_type": "display_data"
    }
   ],
   "source": [
    "# evenly sampled time at 200ms intervals\n",
    "t = np.arange(0., 5., 0.2)\n",
    "\n",
    "# red dashes, blue squares and green triangles\n",
    "plt.plot(t, t, 'r--', t, t**2, 'bs', t, t**3, 'g^')\n",
    "plt.show()"
   ]
  },
  {
   "cell_type": "markdown",
   "id": "1d4d216b-4193-482d-b5ef-9164a3d18f64",
   "metadata": {},
   "source": [
    "## Functions"
   ]
  },
  {
   "cell_type": "code",
   "execution_count": 50,
   "id": "7b102f65-9aab-4cac-9ead-a1bdc2b51d04",
   "metadata": {},
   "outputs": [
    {
     "name": "stdout",
     "output_type": "stream",
     "text": [
      "3\n"
     ]
    }
   ],
   "source": [
    "def calc(a,b):\n",
    "    c = a**b + a*b\n",
    "    return c\n",
    "\n",
    "\n",
    "print(calc(1,2))"
   ]
  },
  {
   "cell_type": "code",
   "execution_count": 52,
   "id": "519bb361-753d-4692-bbec-07f0587c6566",
   "metadata": {},
   "outputs": [
    {
     "name": "stdout",
     "output_type": "stream",
     "text": [
      "4 is maximum\n"
     ]
    }
   ],
   "source": [
    "def print_max(a, b):\n",
    "    if a > b:\n",
    "        print(a, 'is maximum')\n",
    "    elif a == b:\n",
    "        print(a, 'is equal to', b)\n",
    "    else:\n",
    "        print(b, 'is maximum')\n",
    "\n",
    "# directly pass literal values\n",
    "print_max(3, 4)"
   ]
  },
  {
   "cell_type": "markdown",
   "id": "d3269a77-1c0e-4908-8c21-b6a322129b6d",
   "metadata": {},
   "source": [
    "Q3: Create a simulator for simulating and visualizing damped oscillations based on input of parameters from users (https://phys.libretexts.org/Bookshelves/University_Physics/University_Physics_(OpenStax)/Book%3A_University_Physics_I_-_Mechanics_Sound_Oscillations_and_Waves_(OpenStax)/15%3A_Oscillations/15.06%3A_Damped_Oscillations)"
   ]
  },
  {
   "cell_type": "code",
   "execution_count": null,
   "id": "e05aed5b-4afe-484d-9071-1a1c2678d616",
   "metadata": {},
   "outputs": [],
   "source": []
  },
  {
   "cell_type": "markdown",
   "id": "bca42fd8-401b-437b-96b6-d85399517465",
   "metadata": {},
   "source": [
    "## Solving Equations"
   ]
  },
  {
   "cell_type": "code",
   "execution_count": 53,
   "id": "2bba1f63-cf27-4ccf-95d1-68ef35dd0b30",
   "metadata": {},
   "outputs": [
    {
     "data": {
      "text/plain": [
       "[6]"
      ]
     },
     "execution_count": 53,
     "metadata": {},
     "output_type": "execute_result"
    }
   ],
   "source": [
    "from sympy import symbols, solve\n",
    "\n",
    "x = symbols('x')\n",
    "expr = x-4-2\n",
    "\n",
    "\n",
    "sol = solve(expr)\n",
    "\n",
    "\n",
    "sol"
   ]
  },
  {
   "cell_type": "code",
   "execution_count": 54,
   "id": "3d08fd72-9ad9-48c8-8f2d-82eba7540599",
   "metadata": {},
   "outputs": [
    {
     "name": "stdout",
     "output_type": "stream",
     "text": [
      "[-5.  3.]\n",
      "[ 3. -2.  1.]\n"
     ]
    }
   ],
   "source": [
    "# Solving a linear matrix Equation\n",
    "\n",
    "A = np.array([ [3,-9], [2,4] ])\n",
    "b = np.array([-42,2])\n",
    "z = np.linalg.solve(A,b)\n",
    "print(z)\n",
    "\n",
    "M = np.array([ [1,-2,-1], [2,2,-1], [-1,-1,2] ])\n",
    "c = np.array([6,1,1])\n",
    "y = np.linalg.solve(M,c)\n",
    "print(y)"
   ]
  },
  {
   "cell_type": "code",
   "execution_count": 55,
   "id": "144967e2-73d3-4c2a-848d-028c8159fb0b",
   "metadata": {},
   "outputs": [
    {
     "name": "stdout",
     "output_type": "stream",
     "text": [
      "[2. 4. 3.]\n"
     ]
    }
   ],
   "source": [
    "# Solving a nonlinear equation\n",
    "# You move all items to one side, so the expressions equal zero\n",
    "from scipy.optimize import fsolve\n",
    "\n",
    "def myFunction(z):\n",
    "   x = z[0]\n",
    "   y = z[1]\n",
    "   w = z[2]\n",
    "\n",
    "   F = np.empty((3))\n",
    "   F[0] = x**2+y**2-20\n",
    "   F[1] = y - x**2\n",
    "   F[2] = w + 5 - x*y\n",
    "   return F\n",
    "\n",
    "zGuess = np.array([1,1,1])\n",
    "z = fsolve(myFunction,zGuess)\n",
    "print(z)"
   ]
  },
  {
   "cell_type": "markdown",
   "id": "f02ceae0-8f04-405b-abb3-f896514ccbb9",
   "metadata": {},
   "source": [
    "## Object Oriented Programming\n",
    "Object oriented programming allows you to essentially define a system structure using python's language: a class."
   ]
  },
  {
   "cell_type": "code",
   "execution_count": 1,
   "id": "eaee0d44-11c7-45a5-98e2-ed1fe3269fe7",
   "metadata": {},
   "outputs": [
    {
     "name": "stdout",
     "output_type": "stream",
     "text": [
      "Hello, my name is Ali\n"
     ]
    }
   ],
   "source": [
    "class Person:\n",
    "    def __init__(self, name):\n",
    "        self.name = name\n",
    "\n",
    "    def say_hi(self):\n",
    "        print('Hello, my name is', self.name)\n",
    "\n",
    "p = Person('Ali')\n",
    "p.say_hi()"
   ]
  },
  {
   "cell_type": "markdown",
   "id": "7baef55b-a117-4431-bb32-111a6947e79b",
   "metadata": {},
   "source": [
    "Create a class that does all relevant calculations to the motion of a pendulum. More on pendulum motion here: http://hyperphysics.phy-astr.gsu.edu/hbase/pend.html"
   ]
  },
  {
   "cell_type": "code",
   "execution_count": null,
   "id": "c767a6a5-f6b0-45db-b2da-2320c06c1db8",
   "metadata": {
    "tags": []
   },
   "outputs": [],
   "source": []
  },
  {
   "cell_type": "markdown",
   "id": "0d9e1ef5-6ca1-422a-9cb6-8c17c0ed6c6e",
   "metadata": {},
   "source": [
    "## Accessing Files"
   ]
  },
  {
   "cell_type": "code",
   "execution_count": 6,
   "id": "4db86e18-ea7a-424b-8ffc-6d2b47c95a65",
   "metadata": {},
   "outputs": [
    {
     "name": "stdout",
     "output_type": "stream",
     "text": [
      "Programming is fun\n",
      "When the work is done\n",
      "if you wanna make your work also fun:\n",
      "    use Python!\n"
     ]
    }
   ],
   "source": [
    "poem = '''\\\n",
    "Programming is fun\n",
    "When the work is done\n",
    "if you wanna make your work also fun:\n",
    "    use Python!\n",
    "'''\n",
    "\n",
    "# Open for 'w'riting\n",
    "f = open('poem.txt', 'w')\n",
    "# Write text to file\n",
    "f.write(poem)\n",
    "# Close the file\n",
    "f.close()\n",
    "\n",
    "# If no mode is specified,\n",
    "# 'r'ead mode is assumed by default\n",
    "f = open('poem.txt')\n",
    "while True:\n",
    "    line = f.readline()\n",
    "    # Zero length indicates EOF\n",
    "    if len(line) == 0:\n",
    "        break\n",
    "    # The `line` already has a newline\n",
    "    # at the end of each line\n",
    "    # since it is reading from a file.\n",
    "    print(line, end='')\n",
    "# close the file\n",
    "f.close()"
   ]
  },
  {
   "cell_type": "markdown",
   "id": "13bdd284-f97c-49d5-86c2-70c95f9660e3",
   "metadata": {},
   "source": [
    "## Arrays in Python\n",
    "Python has arrays and array-like data structures."
   ]
  },
  {
   "cell_type": "markdown",
   "id": "aa522df9-326a-4283-a243-6a680fb9b57d",
   "metadata": {},
   "source": [
    "### Lists"
   ]
  },
  {
   "cell_type": "code",
   "execution_count": 7,
   "id": "61132fa4-79ea-4b3f-bac1-ce96970b5286",
   "metadata": {},
   "outputs": [
    {
     "name": "stdout",
     "output_type": "stream",
     "text": [
      "I have 4 items to purchase.\n",
      "These items are: apple mango carrot banana \n",
      "I also have to buy rice.\n",
      "My shopping list is now ['apple', 'mango', 'carrot', 'banana', 'rice']\n",
      "I will sort my list now\n",
      "Sorted shopping list is ['apple', 'banana', 'carrot', 'mango', 'rice']\n",
      "The first item I will buy is apple\n",
      "I bought the apple\n",
      "My shopping list is now ['banana', 'carrot', 'mango', 'rice']\n"
     ]
    }
   ],
   "source": [
    "shoplist = ['apple', 'mango', 'carrot', 'banana']\n",
    "\n",
    "print('I have', len(shoplist), 'items to purchase.')\n",
    "\n",
    "print('These items are:', end=' ')\n",
    "for item in shoplist:\n",
    "    print(item, end=' ')\n",
    "\n",
    "print('\\nI also have to buy rice.')\n",
    "shoplist.append('rice')\n",
    "print('My shopping list is now', shoplist)\n",
    "\n",
    "print('I will sort my list now')\n",
    "shoplist.sort()\n",
    "print('Sorted shopping list is', shoplist)\n",
    "\n",
    "print('The first item I will buy is', shoplist[0])\n",
    "olditem = shoplist[0]\n",
    "del shoplist[0]\n",
    "print('I bought the', olditem)\n",
    "print('My shopping list is now', shoplist)"
   ]
  },
  {
   "cell_type": "code",
   "execution_count": 18,
   "id": "e9b9e23c-f00c-471d-8e41-a04dab21397a",
   "metadata": {},
   "outputs": [
    {
     "name": "stdout",
     "output_type": "stream",
     "text": [
      "[2, 5]\n",
      "2\n"
     ]
    }
   ],
   "source": [
    "List = [ [1, 2], [2,5], [5,1] ]\n",
    "print ( List[1] )\n",
    "print ( List[1][0] )"
   ]
  },
  {
   "cell_type": "code",
   "execution_count": 20,
   "id": "ca79b039-ea86-42b3-a12e-45acfc11494e",
   "metadata": {},
   "outputs": [
    {
     "name": "stdout",
     "output_type": "stream",
     "text": [
      "[[0, 0, 0, 0], [0, 0, 0, 0], [0, 0, 0, 0]]\n"
     ]
    }
   ],
   "source": [
    "c = 4\n",
    "r = 3\n",
    "Array = [ [0] * c for i in range(r) ]\n",
    "print(Array)"
   ]
  },
  {
   "cell_type": "code",
   "execution_count": 23,
   "id": "37bf981c-9eb3-487c-9ef3-39f835d66471",
   "metadata": {},
   "outputs": [
    {
     "name": "stdin",
     "output_type": "stream",
     "text": [
      " 4\n",
      " 10\n",
      " 11\n",
      " 12\n",
      " 14\n"
     ]
    },
    {
     "name": "stdout",
     "output_type": "stream",
     "text": [
      "[[10], [11], [12], [14]]\n"
     ]
    }
   ],
   "source": [
    "# User will enter the number of rows in the first line\n",
    "r = int(input()) \n",
    "arr = []\n",
    "for i in range(r):\n",
    "    arr.append([int(j) for j in input().split()])\n",
    "print(arr)"
   ]
  },
  {
   "cell_type": "code",
   "execution_count": 25,
   "id": "735067ec-ebd2-40db-9d49-236fb98987a1",
   "metadata": {},
   "outputs": [
    {
     "name": "stdout",
     "output_type": "stream",
     "text": [
      "7 8 8 8\n",
      "4 7 8 8\n",
      "4 4 7 8\n"
     ]
    }
   ],
   "source": [
    "# at first we will create an array of c columns and r rows\n",
    "c = 4\n",
    "r = 3\n",
    "arr = [[0] * c for i in range(r)]\n",
    "# loop will run for the length of the outer list\n",
    "for i in range(r):\n",
    "# loop will run for the length of the inner lists\n",
    "    for j in range(c):\n",
    "        if i < j: arr[i][j] = 8 \n",
    "        elif i > j:\n",
    "            arr[i][j] = 4\n",
    "        else:\n",
    "            arr[i][j] = 7\n",
    "for r in arr:\n",
    "    print( ' '.join([str(x) for x in r] ) )"
   ]
  },
  {
   "cell_type": "markdown",
   "id": "11e6735b-f412-411b-8321-05fcff84f918",
   "metadata": {},
   "source": [
    "### Tuples"
   ]
  },
  {
   "cell_type": "code",
   "execution_count": 8,
   "id": "9799518e-4733-4640-b16d-d4bf498754a8",
   "metadata": {},
   "outputs": [
    {
     "name": "stdout",
     "output_type": "stream",
     "text": [
      "Number of animals in the zoo is 3\n",
      "Number of cages in the new zoo is 3\n",
      "All animals in new zoo are ('monkey', 'camel', ('python', 'elephant', 'penguin'))\n",
      "Animals brought from old zoo are ('python', 'elephant', 'penguin')\n",
      "Last animal brought from old zoo is penguin\n",
      "Number of animals in the new zoo is 5\n"
     ]
    }
   ],
   "source": [
    "# I would recommend always using parentheses\n",
    "# to indicate start and end of tuple\n",
    "# even though parentheses are optional.\n",
    "# Explicit is better than implicit.\n",
    "zoo = ('python', 'elephant', 'penguin')\n",
    "print('Number of animals in the zoo is', len(zoo))\n",
    "\n",
    "new_zoo = 'monkey', 'camel', zoo    # parentheses not required but are a good idea\n",
    "print('Number of cages in the new zoo is', len(new_zoo))\n",
    "print('All animals in new zoo are', new_zoo)\n",
    "print('Animals brought from old zoo are', new_zoo[2])\n",
    "print('Last animal brought from old zoo is', new_zoo[2][2])\n",
    "print('Number of animals in the new zoo is',\n",
    "      len(new_zoo)-1+len(new_zoo[2]))"
   ]
  },
  {
   "cell_type": "markdown",
   "id": "3dd88a38-f80a-4bff-8283-e8ea69d8aaaa",
   "metadata": {},
   "source": [
    "### Dictionary"
   ]
  },
  {
   "cell_type": "code",
   "execution_count": 9,
   "id": "9a6971c2-c464-47d9-8272-0530b47c9b86",
   "metadata": {},
   "outputs": [
    {
     "name": "stdout",
     "output_type": "stream",
     "text": [
      "Swaroop's address is swaroop@swaroopch.com\n",
      "\n",
      "There are 3 contacts in the address-book\n",
      "\n",
      "Contact Swaroop at swaroop@swaroopch.com\n",
      "Contact Larry at larry@wall.org\n",
      "Contact Matsumoto at matz@ruby-lang.org\n",
      "\n",
      "Guido's address is guido@python.org\n"
     ]
    }
   ],
   "source": [
    "# 'ab' is short for 'a'ddress'b'ook\n",
    "\n",
    "ab = {\n",
    "    'Swaroop': 'swaroop@swaroopch.com',\n",
    "    'Larry': 'larry@wall.org',\n",
    "    'Matsumoto': 'matz@ruby-lang.org',\n",
    "    'Spammer': 'spammer@hotmail.com'\n",
    "}\n",
    "\n",
    "print(\"Swaroop's address is\", ab['Swaroop'])\n",
    "\n",
    "# Deleting a key-value pair\n",
    "del ab['Spammer']\n",
    "\n",
    "print('\\nThere are {} contacts in the address-book\\n'.format(len(ab)))\n",
    "\n",
    "for name, address in ab.items():\n",
    "    print('Contact {} at {}'.format(name, address))\n",
    "\n",
    "# Adding a key-value pair\n",
    "ab['Guido'] = 'guido@python.org'\n",
    "\n",
    "if 'Guido' in ab:\n",
    "    print(\"\\nGuido's address is\", ab['Guido'])"
   ]
  },
  {
   "cell_type": "markdown",
   "id": "bcb4cf23-e311-4067-9df9-5fb1cf633135",
   "metadata": {},
   "source": [
    "### Features of sequences (where order is important)"
   ]
  },
  {
   "cell_type": "code",
   "execution_count": 10,
   "id": "172a76cb-185c-4bb3-8971-e466a8f5a840",
   "metadata": {},
   "outputs": [
    {
     "name": "stdout",
     "output_type": "stream",
     "text": [
      "Item 0 is apple\n",
      "Item 1 is mango\n",
      "Item 2 is carrot\n",
      "Item 3 is banana\n",
      "Item -1 is banana\n",
      "Item -2 is carrot\n",
      "Character 0 is s\n",
      "Item 1 to 3 is ['mango', 'carrot']\n",
      "Item 2 to end is ['carrot', 'banana']\n",
      "Item 1 to -1 is ['mango', 'carrot']\n",
      "Item start to end is ['apple', 'mango', 'carrot', 'banana']\n",
      "characters 1 to 3 is wa\n",
      "characters 2 to end is aroop\n",
      "characters 1 to -1 is waroo\n",
      "characters start to end is swaroop\n"
     ]
    }
   ],
   "source": [
    "shoplist = ['apple', 'mango', 'carrot', 'banana']\n",
    "name = 'swaroop'\n",
    "\n",
    "# Indexing or 'Subscription' operation #\n",
    "print('Item 0 is', shoplist[0])\n",
    "print('Item 1 is', shoplist[1])\n",
    "print('Item 2 is', shoplist[2])\n",
    "print('Item 3 is', shoplist[3])\n",
    "print('Item -1 is', shoplist[-1])\n",
    "print('Item -2 is', shoplist[-2])\n",
    "print('Character 0 is', name[0])\n",
    "\n",
    "# Slicing on a list #\n",
    "print('Item 1 to 3 is', shoplist[1:3])\n",
    "print('Item 2 to end is', shoplist[2:])\n",
    "print('Item 1 to -1 is', shoplist[1:-1])\n",
    "print('Item start to end is', shoplist[:])\n",
    "\n",
    "# Slicing on a string #\n",
    "print('characters 1 to 3 is', name[1:3])\n",
    "print('characters 2 to end is', name[2:])\n",
    "print('characters 1 to -1 is', name[1:-1])\n",
    "print('characters start to end is', name[:])"
   ]
  },
  {
   "cell_type": "code",
   "execution_count": 13,
   "id": "97dcb5cb-1879-4647-9a6e-aa01927fae8d",
   "metadata": {},
   "outputs": [
    {
     "name": "stdout",
     "output_type": "stream",
     "text": [
      "['apple', 'mango', 'carrot', 'banana']\n",
      "['apple', 'carrot']\n",
      "['apple', 'banana']\n",
      "['banana', 'carrot', 'mango', 'apple']\n"
     ]
    }
   ],
   "source": [
    "print(shoplist[::1])\n",
    "print(shoplist[::2])\n",
    "print(shoplist[::3])\n",
    "print(shoplist[::-1])"
   ]
  },
  {
   "cell_type": "markdown",
   "id": "2ec6296d-b7e4-4a7a-aa75-c88b584fd5be",
   "metadata": {},
   "source": [
    "### Features of sets (where orders are not important)"
   ]
  },
  {
   "cell_type": "code",
   "execution_count": 16,
   "id": "e221a12e-a876-4bbe-bdcf-c8ec0c947488",
   "metadata": {},
   "outputs": [
    {
     "name": "stdout",
     "output_type": "stream",
     "text": [
      "True\n",
      "False\n",
      "True\n"
     ]
    },
    {
     "data": {
      "text/plain": [
       "{'brazil', 'india'}"
      ]
     },
     "execution_count": 16,
     "metadata": {},
     "output_type": "execute_result"
    }
   ],
   "source": [
    "bri = set(['brazil', 'russia', 'india'])\n",
    "print('india' in bri)\n",
    "print('usa' in bri)\n",
    "\n",
    "bric = bri.copy()\n",
    "bric.add('china')\n",
    "\n",
    "print(bric.issuperset(bri))\n",
    "\n",
    "bri.remove('russia')\n",
    "bri & bric # OR bri.intersection(bric)"
   ]
  },
  {
   "cell_type": "markdown",
   "id": "7f1be3f0-3dd5-4dc6-9eb0-ef43cb6308d6",
   "metadata": {},
   "source": [
    "## Using Tab"
   ]
  },
  {
   "cell_type": "code",
   "execution_count": null,
   "id": "48555c45-0448-4fdb-9e19-9f6d3addc7cd",
   "metadata": {},
   "outputs": [],
   "source": []
  },
  {
   "cell_type": "markdown",
   "id": "fc810b35-b0ed-47c3-ac62-a8160762fb7e",
   "metadata": {},
   "source": [
    "## References"
   ]
  },
  {
   "cell_type": "code",
   "execution_count": 17,
   "id": "95fce89a-bf81-43fd-9f69-96b8f6eff819",
   "metadata": {},
   "outputs": [
    {
     "name": "stdout",
     "output_type": "stream",
     "text": [
      "Simple Assignment\n",
      "shoplist is ['mango', 'carrot', 'banana']\n",
      "mylist is ['mango', 'carrot', 'banana']\n",
      "Copy by making a full slice\n",
      "shoplist is ['mango', 'carrot', 'banana']\n",
      "mylist is ['carrot', 'banana']\n"
     ]
    }
   ],
   "source": [
    "print('Simple Assignment')\n",
    "shoplist = ['apple', 'mango', 'carrot', 'banana']\n",
    "# mylist is just another name pointing to the same object!\n",
    "mylist = shoplist\n",
    "\n",
    "# I purchased the first item, so I remove it from the list\n",
    "del shoplist[0]\n",
    "\n",
    "print('shoplist is', shoplist)\n",
    "print('mylist is', mylist)\n",
    "# Notice that both shoplist and mylist both print\n",
    "# the same list without the 'apple' confirming that\n",
    "# they point to the same object\n",
    "\n",
    "print('Copy by making a full slice')\n",
    "# Make a copy by doing a full slice\n",
    "mylist = shoplist[:]\n",
    "# Remove first item\n",
    "del mylist[0]\n",
    "\n",
    "print('shoplist is', shoplist)\n",
    "print('mylist is', mylist)\n",
    "# Notice that now the two lists are different"
   ]
  },
  {
   "cell_type": "markdown",
   "id": "54cd2932-670c-473e-9635-883c53990a02",
   "metadata": {},
   "source": [
    "### Numpy Arrays"
   ]
  },
  {
   "cell_type": "code",
   "execution_count": 26,
   "id": "66fc8b67-7cc2-4076-a40d-df04ca62c123",
   "metadata": {},
   "outputs": [
    {
     "name": "stdout",
     "output_type": "stream",
     "text": [
      "[[1 0]\n",
      " [6 4]]\n"
     ]
    }
   ],
   "source": [
    "import numpy as np\n",
    "arr = np.array( [ [1, 0], [6, 4] ] )\n",
    "print(arr)"
   ]
  },
  {
   "cell_type": "code",
   "execution_count": 30,
   "id": "17cb3b7b-fff8-43ff-b9e3-f0ac79687b1b",
   "metadata": {},
   "outputs": [
    {
     "name": "stdout",
     "output_type": "stream",
     "text": [
      "[[1.+0.j 6.+0.j 7.+0.j]\n",
      " [5.+0.j 9.+0.j 2.+0.j]]\n",
      "[[1 6 7]\n",
      " [5 9 2]]\n",
      "[[1.  6.2 7. ]\n",
      " [5.  9.  2. ]]\n"
     ]
    }
   ],
   "source": [
    "X = np.array( [ [ 1, 6, 7], [ 5, 9, 2] ], dtype = complex )\n",
    "print(X)                                                  #Array of complex numbers\n",
    "X = np.array( [ [ 1, 6, 7], [ 5, 9, 2] ] )\n",
    "print(X)                                                  #Array of integers\n",
    "X = np.array( [ [ 1, 6.2, 7], [ 5, 9, 2] ] )\n",
    "print(X)                                                  #Array of floats"
   ]
  },
  {
   "cell_type": "code",
   "execution_count": 33,
   "id": "308ba9e1-9e10-4a91-90d6-81364ecf5425",
   "metadata": {},
   "outputs": [
    {
     "name": "stdout",
     "output_type": "stream",
     "text": [
      "2\n",
      "[1 6 7]\n",
      "[5 9 2]\n",
      "[3 8 4]\n",
      "[1 5 3]\n",
      "[7 2 4]\n",
      "[7 2 4]\n"
     ]
    }
   ],
   "source": [
    "X = np.array( [ [ 1, 6, 7],\n",
    "                 [ 5, 9, 2],\n",
    "                 [ 3, 8, 4] ] )\n",
    "\n",
    "print(X[1][2]) # element at the given index i.e. 2\n",
    "print(X[0])     # first row\n",
    "print(X[1])      # second row\n",
    "print(X[-1])     # last row\n",
    "print(X[:, 0])  # first column\n",
    "print(X[:, 2])  # third column\n",
    "print(X[:, -1]) # last column"
   ]
  },
  {
   "cell_type": "code",
   "execution_count": 34,
   "id": "3b750389-e9c3-4a2e-abb3-2959ce80cdd6",
   "metadata": {},
   "outputs": [
    {
     "name": "stdout",
     "output_type": "stream",
     "text": [
      "zero_array =  [[0. 0.]\n",
      " [0. 0.]\n",
      " [0. 0.]]\n",
      "one_array =  [[1. 1.]\n",
      " [1. 1.]\n",
      " [1. 1.]]\n",
      "X=  [[0 1 2]\n",
      " [3 4 5]\n",
      " [6 7 8]]\n",
      "Transpose of X=  [[0 3 6]\n",
      " [1 4 7]\n",
      " [2 5 8]]\n"
     ]
    }
   ],
   "source": [
    "zero_array = np.zeros( (3, 2) )\n",
    "print('zero_array = ',zero_array)\n",
    "\n",
    "one_array = np.ones( (3, 2) )\n",
    "print('one_array = ',one_array)\n",
    "\n",
    "X = np.arange(9).reshape(3, 3)\n",
    "print('X= ', X)\n",
    "print('Transpose of X= ', X.transpose())"
   ]
  },
  {
   "cell_type": "code",
   "execution_count": null,
   "id": "602bbfbf-38dc-4c46-8fb8-242f3086d542",
   "metadata": {},
   "outputs": [],
   "source": []
  }
 ],
 "metadata": {
  "kernelspec": {
   "display_name": "Python 3",
   "language": "python",
   "name": "python3"
  },
  "language_info": {
   "codemirror_mode": {
    "name": "ipython",
    "version": 3
   },
   "file_extension": ".py",
   "mimetype": "text/x-python",
   "name": "python",
   "nbconvert_exporter": "python",
   "pygments_lexer": "ipython3",
   "version": "3.10.4"
  }
 },
 "nbformat": 4,
 "nbformat_minor": 5
}
